{
 "cells": [
  {
   "cell_type": "code",
   "execution_count": 1,
   "metadata": {},
   "outputs": [],
   "source": [
    "from pathlib import Path\n",
    "import pandas as pd\n",
    "from pandas import read_csv\n",
    "DATA_PATH = Path() / \"../result\"\n",
    "#DATA_PATH = Path('/content/gdrive/My Drive/Colab Notebooks/VC_data_Cleaning_With_LLM/data')\n",
    "DATA_PATH.mkdir(parents=True,exist_ok=True)\n",
    "def load_data(filename, data_path=DATA_PATH,encoding='utf-8-sig'):\n",
    "    csv_path = data_path / filename\n",
    "    return pd.read_csv(csv_path,encoding=encoding)"
   ]
  },
  {
   "cell_type": "code",
   "execution_count": 2,
   "metadata": {},
   "outputs": [],
   "source": [
    "df = load_data(\"twitter1_extracted.csv\")"
   ]
  },
  {
   "cell_type": "code",
   "execution_count": 3,
   "metadata": {},
   "outputs": [],
   "source": [
    "# Apply the function to remove illegal XML characters to every string in the DataFrame\n",
    "# and save directly to an Excel file without the intermediate cleaning step.\n",
    "def clean_and_save_excel(dataframe, filepath):\n",
    "    # Define the function to remove illegal XML characters\n",
    "    def remove_illegal_xml_characters(s):\n",
    "        if isinstance(s, str):\n",
    "            return ''.join(char for char in s if ord(char) >= 32 or char in '\\t\\n\\r')\n",
    "        else:\n",
    "            return s\n",
    "    \n",
    "    # Apply the cleaning function across the DataFrame\n",
    "    cleaned_df = dataframe.applymap(remove_illegal_xml_characters)\n",
    "    \n",
    "    # Save the cleaned DataFrame as an Excel file\n",
    "    cleaned_df.to_excel(filepath, index=False)"
   ]
  },
  {
   "cell_type": "code",
   "execution_count": 4,
   "metadata": {},
   "outputs": [],
   "source": [
    "clean_and_save_excel(df, DATA_PATH / \"twitter1_extracted.xlsx\")"
   ]
  }
 ],
 "metadata": {
  "kernelspec": {
   "display_name": "Python 3",
   "language": "python",
   "name": "python3"
  },
  "language_info": {
   "codemirror_mode": {
    "name": "ipython",
    "version": 3
   },
   "file_extension": ".py",
   "mimetype": "text/x-python",
   "name": "python",
   "nbconvert_exporter": "python",
   "pygments_lexer": "ipython3",
   "version": "3.11.1"
  }
 },
 "nbformat": 4,
 "nbformat_minor": 2
}
